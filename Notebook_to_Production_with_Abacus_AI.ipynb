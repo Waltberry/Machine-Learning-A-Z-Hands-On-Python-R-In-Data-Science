{
  "nbformat": 4,
  "nbformat_minor": 0,
  "metadata": {
    "colab": {
      "name": "Notebook to Production with Abacus.AI",
      "provenance": [],
      "collapsed_sections": [],
      "include_colab_link": true
    },
    "kernelspec": {
      "name": "python3",
      "display_name": "Python 3"
    },
    "language_info": {
      "name": "python"
    }
  },
  "cells": [
    {
      "cell_type": "markdown",
      "metadata": {
        "id": "view-in-github",
        "colab_type": "text"
      },
      "source": [
        "<a href=\"https://colab.research.google.com/github/Waltberry/Machine_Learning_Training_Repo/blob/main/Notebook_to_Production_with_Abacus_AI.ipynb\" target=\"_parent\"><img src=\"https://colab.research.google.com/assets/colab-badge.svg\" alt=\"Open In Colab\"/></a>"
      ]
    },
    {
      "cell_type": "markdown",
      "source": [
        "Welcome to the Abacus.AI Demo Workbook!\n",
        "This workbook provides you all the resources needed to follow up with the demo and signup for the Abacus.AI platform to train and deploy your models.\n",
        "\n",
        "For questions or help, please use the Zoom chat or the youtube live stream chat."
      ],
      "metadata": {
        "id": "sFj8DPCS6_cN"
      }
    },
    {
      "cell_type": "markdown",
      "source": [
        "Notebooks:\n",
        "- Custom Python Model - https://colab.research.google.com/drive/1HkuU6kvhIsE5MvxPe-hC6ch0cI0BZZ07?usp=sharing\n",
        "\n",
        "- Debugging Errors - https://colab.research.google.com/drive/1oBbJwqNLwhCmJ2L-9KGbhBifvaTuryrM?usp=sharing\n",
        "\n",
        "\n",
        "- Slides: https://docs.google.com/presentation/d/1qd3b8XHo6dlLQoFmC4TeFP1MWBG3RkDf5Q8n1oc-53E/edit?usp=sharing"
      ],
      "metadata": {
        "id": "A1FtnBoa6nJY"
      }
    }
  ]
}