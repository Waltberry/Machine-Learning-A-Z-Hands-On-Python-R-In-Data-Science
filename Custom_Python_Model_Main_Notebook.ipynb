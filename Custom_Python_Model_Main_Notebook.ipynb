{
  "nbformat": 4,
  "nbformat_minor": 0,
  "metadata": {
    "colab": {
      "name": "Custom Python Model - Main Notebook",
      "provenance": [],
      "collapsed_sections": [],
      "include_colab_link": true
    },
    "kernelspec": {
      "display_name": "Python 3",
      "name": "python3"
    }
  },
  "cells": [
    {
      "cell_type": "markdown",
      "metadata": {
        "id": "view-in-github",
        "colab_type": "text"
      },
      "source": [
        "<a href=\"https://colab.research.google.com/github/Waltberry/Machine_Learning_Training_Repo/blob/main/Custom_Python_Model_Main_Notebook.ipynb\" target=\"_parent\"><img src=\"https://colab.research.google.com/assets/colab-badge.svg\" alt=\"Open In Colab\"/></a>"
      ]
    },
    {
      "cell_type": "markdown",
      "metadata": {
        "id": "Y0ejrLq_-Zl6"
      },
      "source": [
        "## Custom Model For Concrete Strength\n",
        "\n",
        "This is a sample notebook we would use to build a custom model for a specific dataset. We have chosen to use a Concrete Strength dataset that describes the properties of concrete for thie purpose of demo during this workshop. \n",
        "\n",
        "If you'd like to write your own custom transformations, you can use this notebook with placeholders for you to fill in.\n",
        "https://colab.research.google.com/drive/1eCx0Rhz6IxVR_QD0ikS4Npz6lO8sxzca"
      ]
    },
    {
      "cell_type": "markdown",
      "metadata": {
        "id": "S2xmMcwsk6G7"
      },
      "source": [
        "#### Extra libraries required in Colab"
      ]
    },
    {
      "cell_type": "code",
      "metadata": {
        "id": "yo7YV4Ykkvrj"
      },
      "source": [
        "!pip install s3fs"
      ],
      "execution_count": null,
      "outputs": []
    },
    {
      "cell_type": "markdown",
      "metadata": {
        "id": "-2ZXVADflD9f"
      },
      "source": [
        "#### Standard Libraries"
      ]
    },
    {
      "cell_type": "code",
      "metadata": {
        "id": "7lQQ4V5pkRMh"
      },
      "source": [
        "import pandas as pd"
      ],
      "execution_count": null,
      "outputs": []
    },
    {
      "cell_type": "markdown",
      "metadata": {
        "id": "OFyh0wmElgJ2"
      },
      "source": [
        "### Loading and inspecting the data"
      ]
    },
    {
      "cell_type": "markdown",
      "metadata": {
        "id": "0mDVrJYKrzB9"
      },
      "source": [
        "We start by loading the dataset we are going to work with."
      ]
    },
    {
      "cell_type": "code",
      "metadata": {
        "id": "2egrfrygYfU6",
        "colab": {
          "base_uri": "https://localhost:8080/",
          "height": 297
        },
        "outputId": "695ebea5-ec5a-426d-89b4-fe054792717e"
      },
      "source": [
        "concrete_df = pd.read_csv('s3://abacusai.exampledatasets/predicting/concrete_measurements.csv')\n",
        "concrete_df.describe()"
      ],
      "execution_count": null,
      "outputs": [
        {
          "output_type": "execute_result",
          "data": {
            "text/html": [
              "<div>\n",
              "<style scoped>\n",
              "    .dataframe tbody tr th:only-of-type {\n",
              "        vertical-align: middle;\n",
              "    }\n",
              "\n",
              "    .dataframe tbody tr th {\n",
              "        vertical-align: top;\n",
              "    }\n",
              "\n",
              "    .dataframe thead th {\n",
              "        text-align: right;\n",
              "    }\n",
              "</style>\n",
              "<table border=\"1\" class=\"dataframe\">\n",
              "  <thead>\n",
              "    <tr style=\"text-align: right;\">\n",
              "      <th></th>\n",
              "      <th>cement</th>\n",
              "      <th>slag</th>\n",
              "      <th>flyash</th>\n",
              "      <th>water</th>\n",
              "      <th>superplasticizer</th>\n",
              "      <th>coarseaggregate</th>\n",
              "      <th>fineaggregate</th>\n",
              "      <th>age</th>\n",
              "      <th>csMPa</th>\n",
              "    </tr>\n",
              "  </thead>\n",
              "  <tbody>\n",
              "    <tr>\n",
              "      <th>count</th>\n",
              "      <td>1030.000000</td>\n",
              "      <td>1030.000000</td>\n",
              "      <td>1030.000000</td>\n",
              "      <td>1030.000000</td>\n",
              "      <td>1030.000000</td>\n",
              "      <td>1030.000000</td>\n",
              "      <td>1030.000000</td>\n",
              "      <td>1030.000000</td>\n",
              "      <td>1030.000000</td>\n",
              "    </tr>\n",
              "    <tr>\n",
              "      <th>mean</th>\n",
              "      <td>281.167864</td>\n",
              "      <td>73.895825</td>\n",
              "      <td>54.188350</td>\n",
              "      <td>181.567282</td>\n",
              "      <td>6.204660</td>\n",
              "      <td>972.918932</td>\n",
              "      <td>773.580485</td>\n",
              "      <td>45.662136</td>\n",
              "      <td>35.817961</td>\n",
              "    </tr>\n",
              "    <tr>\n",
              "      <th>std</th>\n",
              "      <td>104.506364</td>\n",
              "      <td>86.279342</td>\n",
              "      <td>63.997004</td>\n",
              "      <td>21.354219</td>\n",
              "      <td>5.973841</td>\n",
              "      <td>77.753954</td>\n",
              "      <td>80.175980</td>\n",
              "      <td>63.169912</td>\n",
              "      <td>16.705742</td>\n",
              "    </tr>\n",
              "    <tr>\n",
              "      <th>min</th>\n",
              "      <td>102.000000</td>\n",
              "      <td>0.000000</td>\n",
              "      <td>0.000000</td>\n",
              "      <td>121.800000</td>\n",
              "      <td>0.000000</td>\n",
              "      <td>801.000000</td>\n",
              "      <td>594.000000</td>\n",
              "      <td>1.000000</td>\n",
              "      <td>2.330000</td>\n",
              "    </tr>\n",
              "    <tr>\n",
              "      <th>25%</th>\n",
              "      <td>192.375000</td>\n",
              "      <td>0.000000</td>\n",
              "      <td>0.000000</td>\n",
              "      <td>164.900000</td>\n",
              "      <td>0.000000</td>\n",
              "      <td>932.000000</td>\n",
              "      <td>730.950000</td>\n",
              "      <td>7.000000</td>\n",
              "      <td>23.710000</td>\n",
              "    </tr>\n",
              "    <tr>\n",
              "      <th>50%</th>\n",
              "      <td>272.900000</td>\n",
              "      <td>22.000000</td>\n",
              "      <td>0.000000</td>\n",
              "      <td>185.000000</td>\n",
              "      <td>6.400000</td>\n",
              "      <td>968.000000</td>\n",
              "      <td>779.500000</td>\n",
              "      <td>28.000000</td>\n",
              "      <td>34.445000</td>\n",
              "    </tr>\n",
              "    <tr>\n",
              "      <th>75%</th>\n",
              "      <td>350.000000</td>\n",
              "      <td>142.950000</td>\n",
              "      <td>118.300000</td>\n",
              "      <td>192.000000</td>\n",
              "      <td>10.200000</td>\n",
              "      <td>1029.400000</td>\n",
              "      <td>824.000000</td>\n",
              "      <td>56.000000</td>\n",
              "      <td>46.135000</td>\n",
              "    </tr>\n",
              "    <tr>\n",
              "      <th>max</th>\n",
              "      <td>540.000000</td>\n",
              "      <td>359.400000</td>\n",
              "      <td>200.100000</td>\n",
              "      <td>247.000000</td>\n",
              "      <td>32.200000</td>\n",
              "      <td>1145.000000</td>\n",
              "      <td>992.600000</td>\n",
              "      <td>365.000000</td>\n",
              "      <td>82.600000</td>\n",
              "    </tr>\n",
              "  </tbody>\n",
              "</table>\n",
              "</div>"
            ],
            "text/plain": [
              "            cement         slag  ...          age        csMPa\n",
              "count  1030.000000  1030.000000  ...  1030.000000  1030.000000\n",
              "mean    281.167864    73.895825  ...    45.662136    35.817961\n",
              "std     104.506364    86.279342  ...    63.169912    16.705742\n",
              "min     102.000000     0.000000  ...     1.000000     2.330000\n",
              "25%     192.375000     0.000000  ...     7.000000    23.710000\n",
              "50%     272.900000    22.000000  ...    28.000000    34.445000\n",
              "75%     350.000000   142.950000  ...    56.000000    46.135000\n",
              "max     540.000000   359.400000  ...   365.000000    82.600000\n",
              "\n",
              "[8 rows x 9 columns]"
            ]
          },
          "metadata": {},
          "execution_count": 3
        }
      ]
    },
    {
      "cell_type": "markdown",
      "metadata": {
        "id": "YycOfEOgZSiP"
      },
      "source": [
        "#### Custom Data Transform\n",
        "\n",
        "We are going to transform the dataset so that flyash is no longer a feature but instead all the other values are transformed according to whether they have flyash > 0 or not.\n",
        "\n",
        "The example is not entirely realistic and it is certainly feasible to achieve the same result using SQL. However, the point is to illustrate that you are free to transform the dataset using the full functionality of python and its data frameworks. Here we are using pandas but you can use a wide range of standard python libraries to manipulate the data. Additionally, you can bundle resources with your code, for example small maps or tables, that can be accessed by your function to implement the transform."
      ]
    },
    {
      "cell_type": "code",
      "metadata": {
        "id": "zSpGvxlsZHlx",
        "colab": {
          "base_uri": "https://localhost:8080/",
          "height": 297
        },
        "outputId": "bac44cf2-0e58-48f8-d7cc-6531ea773f52"
      },
      "source": [
        "def transform_concrete(concrete_dataset):\n",
        "  import pandas as pd\n",
        "  feature_df = concrete_dataset.drop(['flyash'], axis=1)\n",
        "  no_flyash = feature_df[concrete_dataset.flyash == 0.0]\n",
        "  flyash = feature_df[concrete_dataset.flyash > 0.0]\n",
        "  return pd.concat([no_flyash - no_flyash.assign(age=0).mean(), flyash - flyash.assign(age=0).mean()])\n",
        "\n",
        "transformed_concrete_df = transform_concrete(concrete_df)\n",
        "transformed_concrete_df.describe()"
      ],
      "execution_count": null,
      "outputs": [
        {
          "output_type": "execute_result",
          "data": {
            "text/html": [
              "<div>\n",
              "<style scoped>\n",
              "    .dataframe tbody tr th:only-of-type {\n",
              "        vertical-align: middle;\n",
              "    }\n",
              "\n",
              "    .dataframe tbody tr th {\n",
              "        vertical-align: top;\n",
              "    }\n",
              "\n",
              "    .dataframe thead th {\n",
              "        text-align: right;\n",
              "    }\n",
              "</style>\n",
              "<table border=\"1\" class=\"dataframe\">\n",
              "  <thead>\n",
              "    <tr style=\"text-align: right;\">\n",
              "      <th></th>\n",
              "      <th>cement</th>\n",
              "      <th>slag</th>\n",
              "      <th>water</th>\n",
              "      <th>superplasticizer</th>\n",
              "      <th>coarseaggregate</th>\n",
              "      <th>fineaggregate</th>\n",
              "      <th>age</th>\n",
              "      <th>csMPa</th>\n",
              "    </tr>\n",
              "  </thead>\n",
              "  <tbody>\n",
              "    <tr>\n",
              "      <th>count</th>\n",
              "      <td>1.030000e+03</td>\n",
              "      <td>1.030000e+03</td>\n",
              "      <td>1.030000e+03</td>\n",
              "      <td>1.030000e+03</td>\n",
              "      <td>1.030000e+03</td>\n",
              "      <td>1.030000e+03</td>\n",
              "      <td>1030.000000</td>\n",
              "      <td>1.030000e+03</td>\n",
              "    </tr>\n",
              "    <tr>\n",
              "      <th>mean</th>\n",
              "      <td>-9.348811e-14</td>\n",
              "      <td>9.875854e-14</td>\n",
              "      <td>1.342995e-13</td>\n",
              "      <td>-4.492631e-15</td>\n",
              "      <td>-5.190963e-13</td>\n",
              "      <td>4.466899e-13</td>\n",
              "      <td>45.662136</td>\n",
              "      <td>-2.355829e-15</td>\n",
              "    </tr>\n",
              "    <tr>\n",
              "      <th>std</th>\n",
              "      <td>9.799162e+01</td>\n",
              "      <td>8.127146e+01</td>\n",
              "      <td>2.061237e+01</td>\n",
              "      <td>5.481593e+00</td>\n",
              "      <td>7.775244e+01</td>\n",
              "      <td>7.959387e+01</td>\n",
              "      <td>63.169912</td>\n",
              "      <td>1.667246e+01</td>\n",
              "    </tr>\n",
              "    <tr>\n",
              "      <th>min</th>\n",
              "      <td>-2.120378e+02</td>\n",
              "      <td>-1.001102e+02</td>\n",
              "      <td>-6.001678e+01</td>\n",
              "      <td>-8.826078e+00</td>\n",
              "      <td>-1.723574e+02</td>\n",
              "      <td>-1.722265e+02</td>\n",
              "      <td>1.000000</td>\n",
              "      <td>-3.444178e+01</td>\n",
              "    </tr>\n",
              "    <tr>\n",
              "      <th>25%</th>\n",
              "      <td>-7.367220e+01</td>\n",
              "      <td>-4.191875e+01</td>\n",
              "      <td>-1.340776e+01</td>\n",
              "      <td>-4.055654e+00</td>\n",
              "      <td>-4.135742e+01</td>\n",
              "      <td>-4.284638e+01</td>\n",
              "      <td>7.000000</td>\n",
              "      <td>-1.231678e+01</td>\n",
              "    </tr>\n",
              "    <tr>\n",
              "      <th>50%</th>\n",
              "      <td>-4.037809e+00</td>\n",
              "      <td>-2.191875e+01</td>\n",
              "      <td>-3.077586e-01</td>\n",
              "      <td>-1.826078e+00</td>\n",
              "      <td>-5.357420e+00</td>\n",
              "      <td>-1.853004e+00</td>\n",
              "      <td>28.000000</td>\n",
              "      <td>-9.444612e-01</td>\n",
              "    </tr>\n",
              "    <tr>\n",
              "      <th>75%</th>\n",
              "      <td>5.700280e+01</td>\n",
              "      <td>6.668975e+01</td>\n",
              "      <td>1.138322e+01</td>\n",
              "      <td>2.748922e+00</td>\n",
              "      <td>5.701595e+01</td>\n",
              "      <td>5.729700e+01</td>\n",
              "      <td>56.000000</td>\n",
              "      <td>1.040121e+01</td>\n",
              "    </tr>\n",
              "    <tr>\n",
              "      <th>max</th>\n",
              "      <td>2.639278e+02</td>\n",
              "      <td>2.592898e+02</td>\n",
              "      <td>7.159224e+01</td>\n",
              "      <td>2.814435e+01</td>\n",
              "      <td>1.716426e+02</td>\n",
              "      <td>2.277470e+02</td>\n",
              "      <td>365.000000</td>\n",
              "      <td>4.582822e+01</td>\n",
              "    </tr>\n",
              "  </tbody>\n",
              "</table>\n",
              "</div>"
            ],
            "text/plain": [
              "             cement          slag  ...          age         csMPa\n",
              "count  1.030000e+03  1.030000e+03  ...  1030.000000  1.030000e+03\n",
              "mean  -9.348811e-14  9.875854e-14  ...    45.662136 -2.355829e-15\n",
              "std    9.799162e+01  8.127146e+01  ...    63.169912  1.667246e+01\n",
              "min   -2.120378e+02 -1.001102e+02  ...     1.000000 -3.444178e+01\n",
              "25%   -7.367220e+01 -4.191875e+01  ...     7.000000 -1.231678e+01\n",
              "50%   -4.037809e+00 -2.191875e+01  ...    28.000000 -9.444612e-01\n",
              "75%    5.700280e+01  6.668975e+01  ...    56.000000  1.040121e+01\n",
              "max    2.639278e+02  2.592898e+02  ...   365.000000  4.582822e+01\n",
              "\n",
              "[8 rows x 8 columns]"
            ]
          },
          "metadata": {},
          "execution_count": 5
        }
      ]
    },
    {
      "cell_type": "markdown",
      "metadata": {
        "id": "2pv5fjeObtrF"
      },
      "source": [
        "### Custom Model"
      ]
    },
    {
      "cell_type": "markdown",
      "metadata": {
        "id": "e26Gk2tOtaKe"
      },
      "source": [
        "#### Requires catboost"
      ]
    },
    {
      "cell_type": "code",
      "metadata": {
        "id": "uZruY_-2bssl"
      },
      "source": [
        "!pip install catboost"
      ],
      "execution_count": null,
      "outputs": []
    },
    {
      "cell_type": "markdown",
      "metadata": {
        "id": "IxFlCU-7tgYP"
      },
      "source": [
        "### Train Function\n",
        "\n",
        "To illustrate that the training can be customized arbitrarily we will train a composite model that depending on the age of the concrete uses a linear model on quantized features or a GBDT trained on raw inputs. It is effectively a decision tree model on the age feature where one side of the decision tree delegates to a linear model and the other side to a boosted tree model."
      ]
    },
    {
      "cell_type": "code",
      "metadata": {
        "id": "38W5NRR0cBd8",
        "colab": {
          "base_uri": "https://localhost:8080/"
        },
        "outputId": "94af0258-ef74-4bd6-f4fb-c0dce338c5b3"
      },
      "source": [
        "def train(training_dataset):\n",
        "  # set the seed for reproduceable results\n",
        "  import numpy as np\n",
        "  np.random.seed(5)\n",
        "\n",
        "  X = training_dataset.drop(['csMPa'], axis=1)\n",
        "  y = training_dataset.csMPa\n",
        "  recent = training_dataset.age < 10\n",
        "  from sklearn.preprocessing import QuantileTransformer\n",
        "  from sklearn.linear_model import LinearRegression\n",
        "  qt = QuantileTransformer(n_quantiles=20)\n",
        "  recent_model = LinearRegression()\n",
        "  _ = recent_model.fit(qt.fit_transform(X[recent]), y[recent])\n",
        "  print(f'Linear model R^2 = {recent_model.score(qt.transform(X[recent]), y[recent])}')\n",
        "\n",
        "  from catboost import Pool, CatBoostRegressor\n",
        "  train_pool = Pool(X[~recent], y[~recent])\n",
        "  older_model = CatBoostRegressor(iterations=5, depth=10, loss_function='RMSE')\n",
        "  _ = older_model.fit(train_pool)\n",
        "  metrics = older_model.eval_metrics(train_pool, ['RMSE'])\n",
        "  old_r2 = 1 - metrics['RMSE'][-1]**2 / y[~recent].var()\n",
        "  print(f'Catboost model R^2 = {old_r2}')\n",
        "\n",
        "  return (X.columns, qt, recent_model, older_model)\n",
        "\n",
        "local_model = train(transformed_concrete_df)"
      ],
      "execution_count": null,
      "outputs": [
        {
          "output_type": "stream",
          "name": "stdout",
          "text": [
            "Linear model R^2 = -59474.80409065779\n",
            "Learning rate set to 0.5\n",
            "0:\tlearn: 12.7627412\ttotal: 46.6ms\tremaining: 187ms\n",
            "1:\tlearn: 11.5585084\ttotal: 47.5ms\tremaining: 71.3ms\n",
            "2:\tlearn: 10.3223491\ttotal: 48.2ms\tremaining: 32.2ms\n",
            "3:\tlearn: 9.3247540\ttotal: 52.1ms\tremaining: 13ms\n",
            "4:\tlearn: 8.5430952\ttotal: 52.7ms\tremaining: 0us\n",
            "Catboost model R^2 = 0.6814947748102853\n"
          ]
        },
        {
          "output_type": "stream",
          "name": "stderr",
          "text": [
            "/usr/local/lib/python3.7/dist-packages/sklearn/base.py:439: UserWarning: X has feature names, but LinearRegression was fitted without feature names\n",
            "  f\"X has feature names, but {self.__class__.__name__} was fitted without\"\n"
          ]
        }
      ]
    },
    {
      "cell_type": "markdown",
      "metadata": {
        "id": "woQK4LYrdEI8"
      },
      "source": [
        "### Prediction Function\n",
        "\n",
        "In the example we are building the model is a composite model built on two partitions of the data so the prediction function needs to dispatch the input to the right model based on one of the input features."
      ]
    },
    {
      "cell_type": "code",
      "metadata": {
        "id": "MQ4tWAjFdRj6",
        "colab": {
          "base_uri": "https://localhost:8080/"
        },
        "outputId": "ae5b1a06-a62e-49ec-b735-73737f434a49"
      },
      "source": [
        "def predict(model, query):\n",
        "  columns, qt, recent_model, older_model = model\n",
        "  import pandas as pd\n",
        "  X = pd.DataFrame({c: [query[c]] for c in columns})\n",
        "  if X.age[0] < 10:\n",
        "    y = recent_model.predict(qt.transform(X))[0]\n",
        "  else:\n",
        "    y = older_model.predict(X.values.reshape(-1))\n",
        "  return {'csMPa': y}\n",
        "\n",
        "for _, r in transformed_concrete_df[transformed_concrete_df.age < 10][:5].iterrows():\n",
        "  print(predict(local_model, r.to_dict()), r['csMPa'])\n",
        "\n",
        "for _, r in transformed_concrete_df[transformed_concrete_df.age > 10][:5].iterrows():\n",
        "  print(predict(local_model, r.to_dict()), r['csMPa'])"
      ],
      "execution_count": null,
      "outputs": [
        {
          "output_type": "stream",
          "name": "stdout",
          "text": [
            "{'csMPa': -31.75412474980192} -28.711784452296826\n",
            "{'csMPa': -5.324797742032455} 1.8282155477031736\n",
            "{'csMPa': -4.377726654712578} -1.6917844522968295\n",
            "{'csMPa': -23.147157848108026} -21.721784452296827\n",
            "{'csMPa': -16.712019233341156} -10.511784452296826\n",
            "{'csMPa': 19.340295162698652} 43.21821554770317\n",
            "{'csMPa': 19.340295162698652} 25.118215547703173\n",
            "{'csMPa': 10.376285866501192} 3.4982155477031753\n",
            "{'csMPa': 10.376285866501192} 4.278215547703169\n",
            "{'csMPa': -2.273645085750303} 7.528215547703169\n"
          ]
        }
      ]
    },
    {
      "cell_type": "markdown",
      "source": [
        "\n",
        "\n",
        "## Integrate with Abacus.AI\n",
        "\n",
        "Many data science projects stop at this point. Actually, most don't even clearly define the prediction operation that will be used in production applications. To actually leverage this model in production generally requires quite a bit more work:\n",
        "- Storing the model so that it is available in various production workflows\n",
        "- Hosting the model in a scalable manner so that it can be used for online predictions\n",
        "- Support for evaluating the model against large batches of new data\n",
        "- Monitoring the model to ensure its inputs and predictions have not shifted significantly\n",
        "\n",
        "Beyond this specific features to support model usage there is the significant task of reliably keeping the model up-to-data as new data arrives. This involves a workflow of operations starting with the refresh of the input datasets through pushing the models to serving infrastructure.\n",
        "\n",
        "Real world machine learning applications require performing all these operations reliably.\n",
        "\n",
        "### Use Abacus.AI for all this and more\n",
        "\n",
        "- [Sign up](https://abacus.ai/app/signup?signupToken=python_models) for an Abacus.AI Account\n",
        "- Once your account is created, navigate to the [API Keys Dashboard](https://abacus.ai/app/profile/apikey) and generate an API key to authenticate your ApiClient\n",
        "\n",
        "# Abacus.AI Integration Notebook\n",
        "\n",
        "https://colab.research.google.com/drive/1AVvPE5Ue89l5n8Ed9eqdjAV5NQHMEMyl\n"
      ],
      "metadata": {
        "id": "wRntelGcUSQw"
      }
    }
  ]
}