{
  "nbformat": 4,
  "nbformat_minor": 0,
  "metadata": {
    "colab": {
      "name": "Custom Python Model",
      "provenance": [],
      "collapsed_sections": [],
      "include_colab_link": true
    },
    "kernelspec": {
      "display_name": "Python 3",
      "name": "python3"
    }
  },
  "cells": [
    {
      "cell_type": "markdown",
      "metadata": {
        "id": "view-in-github",
        "colab_type": "text"
      },
      "source": [
        "<a href=\"https://colab.research.google.com/github/Waltberry/Machine_Learning_Training_Repo/blob/main/Custom_Python_Model.ipynb\" target=\"_parent\"><img src=\"https://colab.research.google.com/assets/colab-badge.svg\" alt=\"Open In Colab\"/></a>"
      ]
    },
    {
      "cell_type": "markdown",
      "metadata": {
        "id": "Y0ejrLq_-Zl6"
      },
      "source": [
        "## Custom Model For Concrete Strength\n",
        "\n",
        "This is a sample of the kind of notebook we might produce when we are attempting to build a custom model for a specific dataset. We have chosen to use a dataset that describes the properties of concrete for this example. We base it on the most popular Python data science and modeling libraries."
      ]
    },
    {
      "cell_type": "markdown",
      "metadata": {
        "id": "S2xmMcwsk6G7"
      },
      "source": [
        "#### Extra libraries required in Colab"
      ]
    },
    {
      "cell_type": "code",
      "metadata": {
        "id": "yo7YV4Ykkvrj"
      },
      "source": [
        "!pip install s3fs"
      ],
      "execution_count": null,
      "outputs": []
    },
    {
      "cell_type": "markdown",
      "metadata": {
        "id": "-2ZXVADflD9f"
      },
      "source": [
        "#### Standard Libraries"
      ]
    },
    {
      "cell_type": "code",
      "metadata": {
        "id": "7lQQ4V5pkRMh"
      },
      "source": [
        "import pandas as pd"
      ],
      "execution_count": null,
      "outputs": []
    },
    {
      "cell_type": "markdown",
      "metadata": {
        "id": "OFyh0wmElgJ2"
      },
      "source": [
        "### Loading and inspecting the data"
      ]
    },
    {
      "cell_type": "markdown",
      "metadata": {
        "id": "0mDVrJYKrzB9"
      },
      "source": [
        "We start by loading the dataset we are going to work with."
      ]
    },
    {
      "cell_type": "code",
      "metadata": {
        "id": "2egrfrygYfU6",
        "colab": {
          "base_uri": "https://localhost:8080/",
          "height": 297
        },
        "outputId": "7ddc8f4f-8bd8-403f-8b47-d843156af7d1"
      },
      "source": [
        "concrete_df = pd.read_csv('s3://abacusai.exampledatasets/predicting/concrete_measurements.csv')\n",
        "concrete_df.describe()"
      ],
      "execution_count": null,
      "outputs": [
        {
          "output_type": "execute_result",
          "data": {
            "text/html": [
              "<div>\n",
              "<style scoped>\n",
              "    .dataframe tbody tr th:only-of-type {\n",
              "        vertical-align: middle;\n",
              "    }\n",
              "\n",
              "    .dataframe tbody tr th {\n",
              "        vertical-align: top;\n",
              "    }\n",
              "\n",
              "    .dataframe thead th {\n",
              "        text-align: right;\n",
              "    }\n",
              "</style>\n",
              "<table border=\"1\" class=\"dataframe\">\n",
              "  <thead>\n",
              "    <tr style=\"text-align: right;\">\n",
              "      <th></th>\n",
              "      <th>cement</th>\n",
              "      <th>slag</th>\n",
              "      <th>flyash</th>\n",
              "      <th>water</th>\n",
              "      <th>superplasticizer</th>\n",
              "      <th>coarseaggregate</th>\n",
              "      <th>fineaggregate</th>\n",
              "      <th>age</th>\n",
              "      <th>csMPa</th>\n",
              "    </tr>\n",
              "  </thead>\n",
              "  <tbody>\n",
              "    <tr>\n",
              "      <th>count</th>\n",
              "      <td>1030.000000</td>\n",
              "      <td>1030.000000</td>\n",
              "      <td>1030.000000</td>\n",
              "      <td>1030.000000</td>\n",
              "      <td>1030.000000</td>\n",
              "      <td>1030.000000</td>\n",
              "      <td>1030.000000</td>\n",
              "      <td>1030.000000</td>\n",
              "      <td>1030.000000</td>\n",
              "    </tr>\n",
              "    <tr>\n",
              "      <th>mean</th>\n",
              "      <td>281.167864</td>\n",
              "      <td>73.895825</td>\n",
              "      <td>54.188350</td>\n",
              "      <td>181.567282</td>\n",
              "      <td>6.204660</td>\n",
              "      <td>972.918932</td>\n",
              "      <td>773.580485</td>\n",
              "      <td>45.662136</td>\n",
              "      <td>35.817961</td>\n",
              "    </tr>\n",
              "    <tr>\n",
              "      <th>std</th>\n",
              "      <td>104.506364</td>\n",
              "      <td>86.279342</td>\n",
              "      <td>63.997004</td>\n",
              "      <td>21.354219</td>\n",
              "      <td>5.973841</td>\n",
              "      <td>77.753954</td>\n",
              "      <td>80.175980</td>\n",
              "      <td>63.169912</td>\n",
              "      <td>16.705742</td>\n",
              "    </tr>\n",
              "    <tr>\n",
              "      <th>min</th>\n",
              "      <td>102.000000</td>\n",
              "      <td>0.000000</td>\n",
              "      <td>0.000000</td>\n",
              "      <td>121.800000</td>\n",
              "      <td>0.000000</td>\n",
              "      <td>801.000000</td>\n",
              "      <td>594.000000</td>\n",
              "      <td>1.000000</td>\n",
              "      <td>2.330000</td>\n",
              "    </tr>\n",
              "    <tr>\n",
              "      <th>25%</th>\n",
              "      <td>192.375000</td>\n",
              "      <td>0.000000</td>\n",
              "      <td>0.000000</td>\n",
              "      <td>164.900000</td>\n",
              "      <td>0.000000</td>\n",
              "      <td>932.000000</td>\n",
              "      <td>730.950000</td>\n",
              "      <td>7.000000</td>\n",
              "      <td>23.710000</td>\n",
              "    </tr>\n",
              "    <tr>\n",
              "      <th>50%</th>\n",
              "      <td>272.900000</td>\n",
              "      <td>22.000000</td>\n",
              "      <td>0.000000</td>\n",
              "      <td>185.000000</td>\n",
              "      <td>6.400000</td>\n",
              "      <td>968.000000</td>\n",
              "      <td>779.500000</td>\n",
              "      <td>28.000000</td>\n",
              "      <td>34.445000</td>\n",
              "    </tr>\n",
              "    <tr>\n",
              "      <th>75%</th>\n",
              "      <td>350.000000</td>\n",
              "      <td>142.950000</td>\n",
              "      <td>118.300000</td>\n",
              "      <td>192.000000</td>\n",
              "      <td>10.200000</td>\n",
              "      <td>1029.400000</td>\n",
              "      <td>824.000000</td>\n",
              "      <td>56.000000</td>\n",
              "      <td>46.135000</td>\n",
              "    </tr>\n",
              "    <tr>\n",
              "      <th>max</th>\n",
              "      <td>540.000000</td>\n",
              "      <td>359.400000</td>\n",
              "      <td>200.100000</td>\n",
              "      <td>247.000000</td>\n",
              "      <td>32.200000</td>\n",
              "      <td>1145.000000</td>\n",
              "      <td>992.600000</td>\n",
              "      <td>365.000000</td>\n",
              "      <td>82.600000</td>\n",
              "    </tr>\n",
              "  </tbody>\n",
              "</table>\n",
              "</div>"
            ],
            "text/plain": [
              "            cement         slag  ...          age        csMPa\n",
              "count  1030.000000  1030.000000  ...  1030.000000  1030.000000\n",
              "mean    281.167864    73.895825  ...    45.662136    35.817961\n",
              "std     104.506364    86.279342  ...    63.169912    16.705742\n",
              "min     102.000000     0.000000  ...     1.000000     2.330000\n",
              "25%     192.375000     0.000000  ...     7.000000    23.710000\n",
              "50%     272.900000    22.000000  ...    28.000000    34.445000\n",
              "75%     350.000000   142.950000  ...    56.000000    46.135000\n",
              "max     540.000000   359.400000  ...   365.000000    82.600000\n",
              "\n",
              "[8 rows x 9 columns]"
            ]
          },
          "metadata": {},
          "execution_count": 9
        }
      ]
    },
    {
      "cell_type": "markdown",
      "metadata": {
        "id": "YycOfEOgZSiP"
      },
      "source": [
        "#### Custom Data Transform\n",
        "\n",
        "Most of the time building an effective model requires some form of data transformation. It could be because:\n",
        "- only a subset of the data is relevant to business problem\n",
        "- the prediction request is organized differently from the training data\n",
        "- feature engineering to improve the model\n",
        "\n",
        "The transformation may apply to each individual row or could involve an aggregation over some portion of the dataset."
      ]
    },
    {
      "cell_type": "code",
      "metadata": {
        "id": "zSpGvxlsZHlx"
      },
      "source": [
        "def transform_concrete(concrete_dataset):\n",
        "  # Define your own custom transformation of the concrete dataset.\n",
        "  raise NotImplementedError\n",
        "\n",
        "transformed_concrete_df = transform_concrete(concrete_df)\n",
        "transformed_concrete_df.describe()"
      ],
      "execution_count": null,
      "outputs": []
    },
    {
      "cell_type": "markdown",
      "metadata": {
        "id": "2pv5fjeObtrF"
      },
      "source": [
        "### Custom Model\n",
        "\n",
        "Now we are going to build a model to predict an attribute of the concrete given the other attributes. The possibilities are of course endless. The model could be a regression that predicts a numerical attribute in terms of the other attribtues or a classification model that predicts a discrete attribute. It could even be a `k-means` model that involves finding clusters in the data and selecting the closest to each row as the prediction. Generally, we would build it on popular modeling packages available in Python."
      ]
    },
    {
      "cell_type": "code",
      "metadata": {
        "id": "uZruY_-2bssl"
      },
      "source": [
        "!pip install catboost"
      ],
      "execution_count": null,
      "outputs": []
    },
    {
      "cell_type": "code",
      "metadata": {
        "id": "38W5NRR0cBd8"
      },
      "source": [
        "def train(training_dataset):\n",
        "  # Define your custom model here. Be creative, for example it could ensemble a couple of models.\n",
        "  raise NotImplementedError\n",
        "\n",
        "local_model = train(transformed_concrete_df)"
      ],
      "execution_count": null,
      "outputs": []
    },
    {
      "cell_type": "markdown",
      "metadata": {
        "id": "woQK4LYrdEI8"
      },
      "source": [
        "### Prediction Function\n",
        "\n",
        "It is not uncommon for data science projects to stop at this point. You have a training algorithm. It can be trained on a subset of data and evaluated on a different subset of data to get metrics on how well the model is performing and at that point you would know whether your training algorithm is effective.\n",
        "\n",
        "However, real world application requires that the model be evaluated on new data. In the prediction context model evaluation would require that the appropriate feature transforms are applied and then the underlying model evaluated."
      ]
    },
    {
      "cell_type": "code",
      "metadata": {
        "id": "MQ4tWAjFdRj6"
      },
      "source": [
        "def predict(model, query):\n",
        "  raise NotImplementedError\n",
        "\n",
        "for _, r in transformed_concrete_df[transformed_concrete_df.age < 10][:5].iterrows():\n",
        "  print(predict(local_model, r.to_dict()), r['csMPa'])\n",
        "\n",
        "for _, r in transformed_concrete_df[transformed_concrete_df.age > 10][:5].iterrows():\n",
        "  print(predict(local_model, r.to_dict()), r['csMPa'])"
      ],
      "execution_count": null,
      "outputs": []
    },
    {
      "cell_type": "markdown",
      "metadata": {
        "id": "i78KrIDbp7Wq"
      },
      "source": [
        "## Need Help? \n",
        "\n",
        "Here's a cheat sheet with the functions implemented https://colab.research.google.com/drive/1fvJeBOLKe3wXBWrcOTTGckjCHdexl5FW\n",
        "___\n",
        "\n",
        "## Lots More To Do\n",
        "\n",
        "Many data science projects stop at this point. Actually, most don't even clearly define the prediction operation that will be used in production applications. To actually leverage this model in production generally requires quite a bit more work:\n",
        "- Storing the model so that it is available in various production workflows\n",
        "- Hosting the model in a scalable manner so that it can be used for online predictions\n",
        "- Support for evaluating the model against large batches of new data\n",
        "- Monitoring the model to ensure its inputs and predictions have not shifted significantly\n",
        "\n",
        "Beyond this specific features to support model usage there is the significant task of reliably keeping the model up-to-data as new data arrives. This involves a workflow of operations starting with the refresh of the input datasets through pushing the models to serving infrastructure.\n",
        "\n",
        "Real world machine learning applications require performing all these operations reliably.\n",
        "\n",
        "### Use Abacus.AI for all this and more\n",
        "\n",
        "- [Sign up](https://abacus.ai/app/signup?signupToken=python_models) for an Abacus.AI Account\n",
        "- Once your account is created, navigate to the [API Keys Dashboard](https://abacus.ai/app/profile/apikey) and generate an API key to authenticate your ApiClient\n",
        "\n",
        "# Abacus.AI Integration Notebook\n",
        "\n",
        "https://colab.research.google.com/drive/1AVvPE5Ue89l5n8Ed9eqdjAV5NQHMEMyl\n"
      ]
    }
  ]
}